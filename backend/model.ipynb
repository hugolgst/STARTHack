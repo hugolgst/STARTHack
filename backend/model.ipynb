{
 "metadata": {
  "language_info": {
   "codemirror_mode": {
    "name": "ipython",
    "version": 3
   },
   "file_extension": ".py",
   "mimetype": "text/x-python",
   "name": "python",
   "nbconvert_exporter": "python",
   "pygments_lexer": "ipython3",
   "version": "3.8.2-final"
  },
  "orig_nbformat": 2,
  "kernelspec": {
   "name": "python3",
   "display_name": "Python 3.8.2 64-bit",
   "metadata": {
    "interpreter": {
     "hash": "5edc29c2ed010d6458d71a83433b383a96a8cbd3efe8531bc90c4b8a5b8bcec9"
    }
   }
  }
 },
 "nbformat": 4,
 "nbformat_minor": 2,
 "cells": [
  {
<<<<<<< HEAD
   "cell_type": "code",
   "execution_count": 3,
   "metadata": {},
   "outputs": [],
   "source": [
    "import pandas as pd"
=======
   "source": [
    "# Model training\n",
    "Using a neural network for the recommender system"
   ],
   "cell_type": "markdown",
   "metadata": {}
  },
  {
   "cell_type": "code",
   "execution_count": 1,
   "metadata": {},
   "outputs": [],
   "source": [
    "import pandas as pd\n",
    "import numpy as np\n",
    "import torch\n",
    "from torch.autograd import Variable\n",
    "import torch.nn.functional as Functional\n",
    "from tqdm import tqdm\n",
    "import matplotlib.pyplot as plt"
>>>>>>> 37543545677206896b9926d8a33c108a6d8cbbaa
   ]
  },
  {
   "cell_type": "code",
   "execution_count": 2,
   "metadata": {},
   "outputs": [
    {
     "output_type": "execute_result",
     "data": {
      "text/plain": [
       "   id        type    description  \\\n",
       "0   0       sport       climbing   \n",
       "1   1       sport      badminton   \n",
       "2   2       sport  swimming pool   \n",
       "3   3       sport       climbing   \n",
       "4   4  meditation           yoga   \n",
       "\n",
       "                                                 url  lattitude  longitude  \\\n",
       "0  https://www.facebook.com/groups/escaladeromand...  46.512947   6.624772   \n",
       "1                   http://www.badmintonlausanne.ch/  46.528290   6.601945   \n",
       "2  https://www.lausanne-tourisme.ch/fr/decouvrir/...  46.522474   6.605101   \n",
       "3                               https://totem.ch/?ec  46.516749   6.548327   \n",
       "4                https://totem.ch/yoga#studio?smooth  46.516749   6.548327   \n",
       "\n",
       "   score  \n",
       "0      1  \n",
       "1      4  \n",
       "2      3  \n",
       "3      4  \n",
       "4      4  "
      ],
      "text/html": "<div>\n<style scoped>\n    .dataframe tbody tr th:only-of-type {\n        vertical-align: middle;\n    }\n\n    .dataframe tbody tr th {\n        vertical-align: top;\n    }\n\n    .dataframe thead th {\n        text-align: right;\n    }\n</style>\n<table border=\"1\" class=\"dataframe\">\n  <thead>\n    <tr style=\"text-align: right;\">\n      <th></th>\n      <th>id</th>\n      <th>type</th>\n      <th>description</th>\n      <th>url</th>\n      <th>lattitude</th>\n      <th>longitude</th>\n      <th>score</th>\n    </tr>\n  </thead>\n  <tbody>\n    <tr>\n      <th>0</th>\n      <td>0</td>\n      <td>sport</td>\n      <td>climbing</td>\n      <td>https://www.facebook.com/groups/escaladeromand...</td>\n      <td>46.512947</td>\n      <td>6.624772</td>\n      <td>1</td>\n    </tr>\n    <tr>\n      <th>1</th>\n      <td>1</td>\n      <td>sport</td>\n      <td>badminton</td>\n      <td>http://www.badmintonlausanne.ch/</td>\n      <td>46.528290</td>\n      <td>6.601945</td>\n      <td>4</td>\n    </tr>\n    <tr>\n      <th>2</th>\n      <td>2</td>\n      <td>sport</td>\n      <td>swimming pool</td>\n      <td>https://www.lausanne-tourisme.ch/fr/decouvrir/...</td>\n      <td>46.522474</td>\n      <td>6.605101</td>\n      <td>3</td>\n    </tr>\n    <tr>\n      <th>3</th>\n      <td>3</td>\n      <td>sport</td>\n      <td>climbing</td>\n      <td>https://totem.ch/?ec</td>\n      <td>46.516749</td>\n      <td>6.548327</td>\n      <td>4</td>\n    </tr>\n    <tr>\n      <th>4</th>\n      <td>4</td>\n      <td>meditation</td>\n      <td>yoga</td>\n      <td>https://totem.ch/yoga#studio?smooth</td>\n      <td>46.516749</td>\n      <td>6.548327</td>\n      <td>4</td>\n    </tr>\n  </tbody>\n</table>\n</div>"
     },
     "metadata": {},
     "execution_count": 2
    }
   ],
   "source": [
    "activites = pd.read_csv('activities.csv')\n",
    "activites.head()"
   ]
  },
  {
   "cell_type": "code",
   "execution_count": 3,
   "metadata": {},
   "outputs": [
    {
     "output_type": "execute_result",
     "data": {
      "text/plain": [
       "   user_id  item_id  rating   timestamp\n",
       "0        1        0       2  1616193271\n",
       "2        0        4       0  1616193911\n",
       "3        1        2       0  1616193911\n",
       "1        1        1       1  1616194035\n",
       "4        1        3       0  1616194210"
      ],
      "text/html": "<div>\n<style scoped>\n    .dataframe tbody tr th:only-of-type {\n        vertical-align: middle;\n    }\n\n    .dataframe tbody tr th {\n        vertical-align: top;\n    }\n\n    .dataframe thead th {\n        text-align: right;\n    }\n</style>\n<table border=\"1\" class=\"dataframe\">\n  <thead>\n    <tr style=\"text-align: right;\">\n      <th></th>\n      <th>user_id</th>\n      <th>item_id</th>\n      <th>rating</th>\n      <th>timestamp</th>\n    </tr>\n  </thead>\n  <tbody>\n    <tr>\n      <th>0</th>\n      <td>1</td>\n      <td>0</td>\n      <td>2</td>\n      <td>1616193271</td>\n    </tr>\n    <tr>\n      <th>2</th>\n      <td>0</td>\n      <td>4</td>\n      <td>0</td>\n      <td>1616193911</td>\n    </tr>\n    <tr>\n      <th>3</th>\n      <td>1</td>\n      <td>2</td>\n      <td>0</td>\n      <td>1616193911</td>\n    </tr>\n    <tr>\n      <th>1</th>\n      <td>1</td>\n      <td>1</td>\n      <td>1</td>\n      <td>1616194035</td>\n    </tr>\n    <tr>\n      <th>4</th>\n      <td>1</td>\n      <td>3</td>\n      <td>0</td>\n      <td>1616194210</td>\n    </tr>\n  </tbody>\n</table>\n</div>"
     },
     "metadata": {},
     "execution_count": 3
    }
   ],
   "source": [
    "# Read the CSV of interactions and sort it by timestamp\n",
    "data = pd.read_csv('interactions.csv')\n",
    "data_sorted = data.sort_values('timestamp')\n",
    "data_sorted.head()"
   ]
  },
  {
   "cell_type": "code",
   "execution_count": 4,
   "metadata": {},
   "outputs": [
    {
     "output_type": "execute_result",
     "data": {
      "text/plain": [
       "((7, 4), (4, 4))"
      ]
     },
     "metadata": {},
     "execution_count": 4
    }
   ],
   "source": [
    "# Cut the data off at 75% in order to save some data for the test process\n",
    "CUTOFF = 0.70\n",
    "cutoff_idx = int(len(data_sorted) * CUTOFF)\n",
    "\n",
    "# Generate the train and test data\n",
    "data_train = data_sorted.iloc[0:cutoff_idx]\n",
    "data_test = data_sorted.iloc[cutoff_idx:]\n",
    "\n",
    "data_train.shape, data_test.shape"
   ]
  },
  {
   "cell_type": "code",
   "execution_count": 5,
   "metadata": {},
   "outputs": [
    {
     "output_type": "execute_result",
     "data": {
      "text/plain": [
       "(4, 4)"
      ]
     },
     "metadata": {},
     "execution_count": 5
    }
   ],
   "source": [
    "def get_intersection_test_and_train(field):\n",
    "    \"\"\"\n",
    "    Get interactions between the test and train datasets\n",
    "    for the given field\n",
    "    \"\"\"\n",
    "\n",
    "    return (\n",
    "        set(data_test[field].unique())\n",
    "        & set(data_train[field].unique())\n",
    "    )\n",
    "\n",
    "\n",
    "# Get the interactions between test and train for user_id and item_id\n",
    "interactions_user, intractions_item = get_intersection_test_and_train('user_id'), get_intersection_test_and_train('item_id')\n",
    "\n",
    "# Clean the test dataset to make sure it does not contain \"solo\" data\n",
    "data_test_clean = (\n",
    "    data_test.loc[\n",
    "        data_test['user_id'].isin(interactions_user)\n",
    "        & data_test['item_id'].isin(intractions_item)\n",
    "    ]\n",
    ")\n",
    "\n",
    "data_test_clean.shape"
   ]
  },
  {
   "cell_type": "code",
   "execution_count": 6,
   "metadata": {},
   "outputs": [],
   "source": [
    "def is_test_data_all_in_train(field):\n",
    "    return data_test_clean[field].isin(data_train[field]).all()\n",
    "\n",
    "assert is_test_data_all_in_train('user_id')\n",
    "assert is_test_data_all_in_train('item_id')"
   ]
  },
  {
   "cell_type": "code",
   "execution_count": 7,
   "metadata": {},
   "outputs": [
    {
     "output_type": "execute_result",
     "data": {
      "text/plain": [
       "((7, 4), (4, 4))"
      ]
     },
     "metadata": {},
     "execution_count": 7
    }
   ],
   "source": [
    "def create_mapping_from_data_train(field):\n",
    "    return {elem: i for i, elem in enumerate(data_train[field].unique())}\n",
    "\n",
    "user_to_id, item_to_id = create_mapping_from_data_train('user_id'), create_mapping_from_data_train('item_id')\n",
    "\n",
    "def create_dataset_from_mapping(init_dataset, *fields):\n",
    "    \"\"\"\n",
    "    Returns a clone of the dataset by applying the mappings\n",
    "    created with `create_mapping_from_data_train` on each field\n",
    "    listed in the parameters.  \n",
    "    \"\"\"\n",
    "\n",
    "    mappings = {field: create_mapping_from_data_train(field) for field in fields}\n",
    "\n",
    "    dataset = init_dataset.copy()\n",
    "\n",
    "    for field in fields:\n",
    "        dataset[field] = dataset[field].apply(lambda x: mappings[field][x])\n",
    "\n",
    "    return dataset\n",
    "\n",
    "dataset_train, dataset_test = create_dataset_from_mapping(data_train, 'user_id', 'item_id'), create_dataset_from_mapping(data_test_clean, 'user_id', 'item_id')\n",
    "dataset_train.shape, dataset_test.shape"
   ]
  },
  {
   "cell_type": "code",
   "execution_count": 8,
   "metadata": {},
   "outputs": [],
   "source": [
    "def get_x_y(dataset, x_fields, y_field):\n",
    "    return (\n",
    "        dataset[x_fields].values,\n",
    "        dataset[y_field].values\n",
    "    )\n",
    "\n",
    "X_train, y_train = get_x_y(\n",
    "    dataset_train,\n",
    "    ['user_id', 'item_id'],\n",
    "    'rating'\n",
    ")\n",
    "X_test, y_test = get_x_y(\n",
    "    dataset_test,\n",
    "    ['user_id', 'item_id'],\n",
    "    'rating'\n",
    ")"
   ]
  },
  {
   "source": [
    "## Implement neural network\n",
    "In the following cell I will implemement a neural network instead of a Matrix Factorization to predict the scores for each recommendation"
   ],
   "cell_type": "markdown",
   "metadata": {}
  },
  {
   "cell_type": "code",
   "execution_count": 9,
   "metadata": {},
   "outputs": [],
   "source": [
    "class NNRecommender(torch.nn.Module):\n",
    "    def __init__(self, n_users, n_items, n_factors, hidden_1, dim_out):\n",
    "        super().__init__()\n",
    "\n",
    "        self.user_factors = torch.nn.Embedding(n_users, n_factors, sparse=True)\n",
    "        self.item_factors = torch.nn.Embedding(n_items, n_factors, sparse=True)\n",
    "\n",
    "        self.linear_1 = torch.nn.Linear(n_factors*2, hidden_1)\n",
    "        self.linear_2 = torch.nn.Linear(hidden_1, dim_out)\n",
    "\n",
    "    def forward(self, user, item):\n",
    "        users_embedding = self.user_factors(user)\n",
    "        items_embedding = self.item_factors(item)\n",
    "\n",
    "        x = torch.cat([\n",
    "            users_embedding,\n",
    "            items_embedding,\n",
    "        ], 1)\n",
    "        h1_relu = Functional.relu(self.linear_1(x))\n",
    "        output = self.linear_2(h1_relu)\n",
    "\n",
    "        return torch.squeeze(output)\n",
    "    \n",
    "    def predict(self, user, item):\n",
    "        return self.forward(user, item)"
   ]
  },
  {
   "cell_type": "code",
   "execution_count": 10,
   "metadata": {},
   "outputs": [
    {
     "output_type": "stream",
     "name": "stderr",
     "text": [
      "                                     1.774790366490682\n"
     ]
    }
   ],
   "source": [
    "model = NNRecommender(\n",
    "    len(data_train['user_id'].unique()),\n",
    "    len(data_train['item_id'].unique()),\n",
    "    20,\n",
    "    20,\n",
    "    1\n",
    ")\n",
    "\n",
    "# Choose the mean squared error as the error function\n",
    "loss_function = torch.nn.MSELoss()\n",
    "# and the Stochastic Gradient Descent as the optimizer\n",
    "optimizer = torch.optim.SGD(model.parameters(), lr=1e-6)\n",
    "\n",
    "epoch_accumulator = []\n",
    "for epoch in range(10):\n",
    "    # Decide that the size of the batches will be 32\n",
    "    batch_size = 2\n",
    "    split_size = len(X_train) // batch_size\n",
    "\n",
    "    # Split the data in batches\n",
    "    X_batches = np.array_split(X_train, split_size)\n",
    "    y_batches = np.array_split(y_train, split_size)\n",
    "\n",
    "    it = zip(X_batches, y_batches)\n",
    "\n",
    "    loss_accumulator = []\n",
    "\n",
    "    for X, y in tqdm(it, total=len(X_batches), leave=False):\n",
    "        users = X[:, 0]\n",
    "        items = X[:, 1]\n",
    "        ratings = y\n",
    "\n",
    "        ratings = Variable(torch.FloatTensor(ratings))\n",
    "        users = Variable(torch.LongTensor(users))\n",
    "        items = Variable(torch.LongTensor(items))\n",
    "\n",
    "        # Predict the score\n",
    "        predictions = model(users, items)\n",
    "        loss = loss_function(predictions, ratings)\n",
    "\n",
    "        # Executes the back propagation\n",
    "        loss.backward()\n",
    "        # Add the loss value to the accumulator\n",
    "        loss_accumulator.append(loss.detach().numpy())\n",
    "\n",
    "        # finally update the weights\n",
    "        optimizer.step()\n",
    "\n",
    "epoch_accumulator.append(sum(loss_accumulator) / len(X_batches))\n",
    "print(epoch_accumulator[-1])"
   ]
  },
  {
   "cell_type": "code",
   "execution_count": 11,
   "metadata": {},
   "outputs": [
    {
     "output_type": "display_data",
     "data": {
      "text/plain": "<Figure size 720x360 with 1 Axes>",
      "image/svg+xml": "<?xml version=\"1.0\" encoding=\"utf-8\" standalone=\"no\"?>\n<!DOCTYPE svg PUBLIC \"-//W3C//DTD SVG 1.1//EN\"\n  \"http://www.w3.org/Graphics/SVG/1.1/DTD/svg11.dtd\">\n<!-- Created with matplotlib (https://matplotlib.org/) -->\n<svg height=\"302.878125pt\" version=\"1.1\" viewBox=\"0 0 608.028125 302.878125\" width=\"608.028125pt\" xmlns=\"http://www.w3.org/2000/svg\" xmlns:xlink=\"http://www.w3.org/1999/xlink\">\n <metadata>\n  <rdf:RDF xmlns:cc=\"http://creativecommons.org/ns#\" xmlns:dc=\"http://purl.org/dc/elements/1.1/\" xmlns:rdf=\"http://www.w3.org/1999/02/22-rdf-syntax-ns#\">\n   <cc:Work>\n    <dc:type rdf:resource=\"http://purl.org/dc/dcmitype/StillImage\"/>\n    <dc:date>2021-03-20T07:51:43.599105</dc:date>\n    <dc:format>image/svg+xml</dc:format>\n    <dc:creator>\n     <cc:Agent>\n      <dc:title>Matplotlib v3.3.4, https://matplotlib.org/</dc:title>\n     </cc:Agent>\n    </dc:creator>\n   </cc:Work>\n  </rdf:RDF>\n </metadata>\n <defs>\n  <style type=\"text/css\">*{stroke-linecap:butt;stroke-linejoin:round;}</style>\n </defs>\n <g id=\"figure_1\">\n  <g id=\"patch_1\">\n   <path d=\"M 0 302.878125 \nL 608.028125 302.878125 \nL 608.028125 0 \nL 0 0 \nz\n\" style=\"fill:none;\"/>\n  </g>\n  <g id=\"axes_1\">\n   <g id=\"patch_2\">\n    <path d=\"M 42.828125 279 \nL 600.828125 279 \nL 600.828125 7.2 \nL 42.828125 7.2 \nz\n\" style=\"fill:#ffffff;\"/>\n   </g>\n   <g id=\"matplotlib.axis_1\">\n    <g id=\"xtick_1\">\n     <g id=\"line2d_1\">\n      <defs>\n       <path d=\"M 0 0 \nL 0 3.5 \n\" id=\"m59d127b026\" style=\"stroke:#000000;stroke-width:0.8;\"/>\n      </defs>\n      <g>\n       <use style=\"stroke:#000000;stroke-width:0.8;\" x=\"118.919034\" xlink:href=\"#m59d127b026\" y=\"279\"/>\n      </g>\n     </g>\n     <g id=\"text_1\">\n      <!-- −0.04 -->\n      <g transform=\"translate(103.596378 293.598437)scale(0.1 -0.1)\">\n       <defs>\n        <path d=\"M 10.59375 35.5 \nL 73.1875 35.5 \nL 73.1875 27.203125 \nL 10.59375 27.203125 \nz\n\" id=\"DejaVuSans-8722\"/>\n        <path d=\"M 31.78125 66.40625 \nQ 24.171875 66.40625 20.328125 58.90625 \nQ 16.5 51.421875 16.5 36.375 \nQ 16.5 21.390625 20.328125 13.890625 \nQ 24.171875 6.390625 31.78125 6.390625 \nQ 39.453125 6.390625 43.28125 13.890625 \nQ 47.125 21.390625 47.125 36.375 \nQ 47.125 51.421875 43.28125 58.90625 \nQ 39.453125 66.40625 31.78125 66.40625 \nz\nM 31.78125 74.21875 \nQ 44.046875 74.21875 50.515625 64.515625 \nQ 56.984375 54.828125 56.984375 36.375 \nQ 56.984375 17.96875 50.515625 8.265625 \nQ 44.046875 -1.421875 31.78125 -1.421875 \nQ 19.53125 -1.421875 13.0625 8.265625 \nQ 6.59375 17.96875 6.59375 36.375 \nQ 6.59375 54.828125 13.0625 64.515625 \nQ 19.53125 74.21875 31.78125 74.21875 \nz\n\" id=\"DejaVuSans-48\"/>\n        <path d=\"M 10.6875 12.40625 \nL 21 12.40625 \nL 21 0 \nL 10.6875 0 \nz\n\" id=\"DejaVuSans-46\"/>\n        <path d=\"M 37.796875 64.3125 \nL 12.890625 25.390625 \nL 37.796875 25.390625 \nz\nM 35.203125 72.90625 \nL 47.609375 72.90625 \nL 47.609375 25.390625 \nL 58.015625 25.390625 \nL 58.015625 17.1875 \nL 47.609375 17.1875 \nL 47.609375 0 \nL 37.796875 0 \nL 37.796875 17.1875 \nL 4.890625 17.1875 \nL 4.890625 26.703125 \nz\n\" id=\"DejaVuSans-52\"/>\n       </defs>\n       <use xlink:href=\"#DejaVuSans-8722\"/>\n       <use x=\"83.789062\" xlink:href=\"#DejaVuSans-48\"/>\n       <use x=\"147.412109\" xlink:href=\"#DejaVuSans-46\"/>\n       <use x=\"179.199219\" xlink:href=\"#DejaVuSans-48\"/>\n       <use x=\"242.822266\" xlink:href=\"#DejaVuSans-52\"/>\n      </g>\n     </g>\n    </g>\n    <g id=\"xtick_2\">\n     <g id=\"line2d_2\">\n      <g>\n       <use style=\"stroke:#000000;stroke-width:0.8;\" x=\"220.37358\" xlink:href=\"#m59d127b026\" y=\"279\"/>\n      </g>\n     </g>\n     <g id=\"text_2\">\n      <!-- −0.02 -->\n      <g transform=\"translate(205.050923 293.598437)scale(0.1 -0.1)\">\n       <defs>\n        <path d=\"M 19.1875 8.296875 \nL 53.609375 8.296875 \nL 53.609375 0 \nL 7.328125 0 \nL 7.328125 8.296875 \nQ 12.9375 14.109375 22.625 23.890625 \nQ 32.328125 33.6875 34.8125 36.53125 \nQ 39.546875 41.84375 41.421875 45.53125 \nQ 43.3125 49.21875 43.3125 52.78125 \nQ 43.3125 58.59375 39.234375 62.25 \nQ 35.15625 65.921875 28.609375 65.921875 \nQ 23.96875 65.921875 18.8125 64.3125 \nQ 13.671875 62.703125 7.8125 59.421875 \nL 7.8125 69.390625 \nQ 13.765625 71.78125 18.9375 73 \nQ 24.125 74.21875 28.421875 74.21875 \nQ 39.75 74.21875 46.484375 68.546875 \nQ 53.21875 62.890625 53.21875 53.421875 \nQ 53.21875 48.921875 51.53125 44.890625 \nQ 49.859375 40.875 45.40625 35.40625 \nQ 44.1875 33.984375 37.640625 27.21875 \nQ 31.109375 20.453125 19.1875 8.296875 \nz\n\" id=\"DejaVuSans-50\"/>\n       </defs>\n       <use xlink:href=\"#DejaVuSans-8722\"/>\n       <use x=\"83.789062\" xlink:href=\"#DejaVuSans-48\"/>\n       <use x=\"147.412109\" xlink:href=\"#DejaVuSans-46\"/>\n       <use x=\"179.199219\" xlink:href=\"#DejaVuSans-48\"/>\n       <use x=\"242.822266\" xlink:href=\"#DejaVuSans-50\"/>\n      </g>\n     </g>\n    </g>\n    <g id=\"xtick_3\">\n     <g id=\"line2d_3\">\n      <g>\n       <use style=\"stroke:#000000;stroke-width:0.8;\" x=\"321.828125\" xlink:href=\"#m59d127b026\" y=\"279\"/>\n      </g>\n     </g>\n     <g id=\"text_3\">\n      <!-- 0.00 -->\n      <g transform=\"translate(310.695312 293.598437)scale(0.1 -0.1)\">\n       <use xlink:href=\"#DejaVuSans-48\"/>\n       <use x=\"63.623047\" xlink:href=\"#DejaVuSans-46\"/>\n       <use x=\"95.410156\" xlink:href=\"#DejaVuSans-48\"/>\n       <use x=\"159.033203\" xlink:href=\"#DejaVuSans-48\"/>\n      </g>\n     </g>\n    </g>\n    <g id=\"xtick_4\">\n     <g id=\"line2d_4\">\n      <g>\n       <use style=\"stroke:#000000;stroke-width:0.8;\" x=\"423.28267\" xlink:href=\"#m59d127b026\" y=\"279\"/>\n      </g>\n     </g>\n     <g id=\"text_4\">\n      <!-- 0.02 -->\n      <g transform=\"translate(412.149858 293.598437)scale(0.1 -0.1)\">\n       <use xlink:href=\"#DejaVuSans-48\"/>\n       <use x=\"63.623047\" xlink:href=\"#DejaVuSans-46\"/>\n       <use x=\"95.410156\" xlink:href=\"#DejaVuSans-48\"/>\n       <use x=\"159.033203\" xlink:href=\"#DejaVuSans-50\"/>\n      </g>\n     </g>\n    </g>\n    <g id=\"xtick_5\">\n     <g id=\"line2d_5\">\n      <g>\n       <use style=\"stroke:#000000;stroke-width:0.8;\" x=\"524.737216\" xlink:href=\"#m59d127b026\" y=\"279\"/>\n      </g>\n     </g>\n     <g id=\"text_5\">\n      <!-- 0.04 -->\n      <g transform=\"translate(513.604403 293.598437)scale(0.1 -0.1)\">\n       <use xlink:href=\"#DejaVuSans-48\"/>\n       <use x=\"63.623047\" xlink:href=\"#DejaVuSans-46\"/>\n       <use x=\"95.410156\" xlink:href=\"#DejaVuSans-48\"/>\n       <use x=\"159.033203\" xlink:href=\"#DejaVuSans-52\"/>\n      </g>\n     </g>\n    </g>\n   </g>\n   <g id=\"matplotlib.axis_2\">\n    <g id=\"ytick_1\">\n     <g id=\"line2d_6\">\n      <defs>\n       <path d=\"M 0 0 \nL -3.5 0 \n\" id=\"m5f2fcfe2e4\" style=\"stroke:#000000;stroke-width:0.8;\"/>\n      </defs>\n      <g>\n       <use style=\"stroke:#000000;stroke-width:0.8;\" x=\"42.828125\" xlink:href=\"#m5f2fcfe2e4\" y=\"247.225084\"/>\n      </g>\n     </g>\n     <g id=\"text_6\">\n      <!-- 1.700 -->\n      <g transform=\"translate(7.2 251.024303)scale(0.1 -0.1)\">\n       <defs>\n        <path d=\"M 12.40625 8.296875 \nL 28.515625 8.296875 \nL 28.515625 63.921875 \nL 10.984375 60.40625 \nL 10.984375 69.390625 \nL 28.421875 72.90625 \nL 38.28125 72.90625 \nL 38.28125 8.296875 \nL 54.390625 8.296875 \nL 54.390625 0 \nL 12.40625 0 \nz\n\" id=\"DejaVuSans-49\"/>\n        <path d=\"M 8.203125 72.90625 \nL 55.078125 72.90625 \nL 55.078125 68.703125 \nL 28.609375 0 \nL 18.3125 0 \nL 43.21875 64.59375 \nL 8.203125 64.59375 \nz\n\" id=\"DejaVuSans-55\"/>\n       </defs>\n       <use xlink:href=\"#DejaVuSans-49\"/>\n       <use x=\"63.623047\" xlink:href=\"#DejaVuSans-46\"/>\n       <use x=\"95.410156\" xlink:href=\"#DejaVuSans-55\"/>\n       <use x=\"159.033203\" xlink:href=\"#DejaVuSans-48\"/>\n       <use x=\"222.65625\" xlink:href=\"#DejaVuSans-48\"/>\n      </g>\n     </g>\n    </g>\n    <g id=\"ytick_2\">\n     <g id=\"line2d_7\">\n      <g>\n       <use style=\"stroke:#000000;stroke-width:0.8;\" x=\"42.828125\" xlink:href=\"#m5f2fcfe2e4\" y=\"212.419437\"/>\n      </g>\n     </g>\n     <g id=\"text_7\">\n      <!-- 1.725 -->\n      <g transform=\"translate(7.2 216.218656)scale(0.1 -0.1)\">\n       <defs>\n        <path d=\"M 10.796875 72.90625 \nL 49.515625 72.90625 \nL 49.515625 64.59375 \nL 19.828125 64.59375 \nL 19.828125 46.734375 \nQ 21.96875 47.46875 24.109375 47.828125 \nQ 26.265625 48.1875 28.421875 48.1875 \nQ 40.625 48.1875 47.75 41.5 \nQ 54.890625 34.8125 54.890625 23.390625 \nQ 54.890625 11.625 47.5625 5.09375 \nQ 40.234375 -1.421875 26.90625 -1.421875 \nQ 22.3125 -1.421875 17.546875 -0.640625 \nQ 12.796875 0.140625 7.71875 1.703125 \nL 7.71875 11.625 \nQ 12.109375 9.234375 16.796875 8.0625 \nQ 21.484375 6.890625 26.703125 6.890625 \nQ 35.15625 6.890625 40.078125 11.328125 \nQ 45.015625 15.765625 45.015625 23.390625 \nQ 45.015625 31 40.078125 35.4375 \nQ 35.15625 39.890625 26.703125 39.890625 \nQ 22.75 39.890625 18.8125 39.015625 \nQ 14.890625 38.140625 10.796875 36.28125 \nz\n\" id=\"DejaVuSans-53\"/>\n       </defs>\n       <use xlink:href=\"#DejaVuSans-49\"/>\n       <use x=\"63.623047\" xlink:href=\"#DejaVuSans-46\"/>\n       <use x=\"95.410156\" xlink:href=\"#DejaVuSans-55\"/>\n       <use x=\"159.033203\" xlink:href=\"#DejaVuSans-50\"/>\n       <use x=\"222.65625\" xlink:href=\"#DejaVuSans-53\"/>\n      </g>\n     </g>\n    </g>\n    <g id=\"ytick_3\">\n     <g id=\"line2d_8\">\n      <g>\n       <use style=\"stroke:#000000;stroke-width:0.8;\" x=\"42.828125\" xlink:href=\"#m5f2fcfe2e4\" y=\"177.61379\"/>\n      </g>\n     </g>\n     <g id=\"text_8\">\n      <!-- 1.750 -->\n      <g transform=\"translate(7.2 181.413009)scale(0.1 -0.1)\">\n       <use xlink:href=\"#DejaVuSans-49\"/>\n       <use x=\"63.623047\" xlink:href=\"#DejaVuSans-46\"/>\n       <use x=\"95.410156\" xlink:href=\"#DejaVuSans-55\"/>\n       <use x=\"159.033203\" xlink:href=\"#DejaVuSans-53\"/>\n       <use x=\"222.65625\" xlink:href=\"#DejaVuSans-48\"/>\n      </g>\n     </g>\n    </g>\n    <g id=\"ytick_4\">\n     <g id=\"line2d_9\">\n      <g>\n       <use style=\"stroke:#000000;stroke-width:0.8;\" x=\"42.828125\" xlink:href=\"#m5f2fcfe2e4\" y=\"142.808143\"/>\n      </g>\n     </g>\n     <g id=\"text_9\">\n      <!-- 1.775 -->\n      <g transform=\"translate(7.2 146.607362)scale(0.1 -0.1)\">\n       <use xlink:href=\"#DejaVuSans-49\"/>\n       <use x=\"63.623047\" xlink:href=\"#DejaVuSans-46\"/>\n       <use x=\"95.410156\" xlink:href=\"#DejaVuSans-55\"/>\n       <use x=\"159.033203\" xlink:href=\"#DejaVuSans-55\"/>\n       <use x=\"222.65625\" xlink:href=\"#DejaVuSans-53\"/>\n      </g>\n     </g>\n    </g>\n    <g id=\"ytick_5\">\n     <g id=\"line2d_10\">\n      <g>\n       <use style=\"stroke:#000000;stroke-width:0.8;\" x=\"42.828125\" xlink:href=\"#m5f2fcfe2e4\" y=\"108.002496\"/>\n      </g>\n     </g>\n     <g id=\"text_10\">\n      <!-- 1.800 -->\n      <g transform=\"translate(7.2 111.801714)scale(0.1 -0.1)\">\n       <defs>\n        <path d=\"M 31.78125 34.625 \nQ 24.75 34.625 20.71875 30.859375 \nQ 16.703125 27.09375 16.703125 20.515625 \nQ 16.703125 13.921875 20.71875 10.15625 \nQ 24.75 6.390625 31.78125 6.390625 \nQ 38.8125 6.390625 42.859375 10.171875 \nQ 46.921875 13.96875 46.921875 20.515625 \nQ 46.921875 27.09375 42.890625 30.859375 \nQ 38.875 34.625 31.78125 34.625 \nz\nM 21.921875 38.8125 \nQ 15.578125 40.375 12.03125 44.71875 \nQ 8.5 49.078125 8.5 55.328125 \nQ 8.5 64.0625 14.71875 69.140625 \nQ 20.953125 74.21875 31.78125 74.21875 \nQ 42.671875 74.21875 48.875 69.140625 \nQ 55.078125 64.0625 55.078125 55.328125 \nQ 55.078125 49.078125 51.53125 44.71875 \nQ 48 40.375 41.703125 38.8125 \nQ 48.828125 37.15625 52.796875 32.3125 \nQ 56.78125 27.484375 56.78125 20.515625 \nQ 56.78125 9.90625 50.3125 4.234375 \nQ 43.84375 -1.421875 31.78125 -1.421875 \nQ 19.734375 -1.421875 13.25 4.234375 \nQ 6.78125 9.90625 6.78125 20.515625 \nQ 6.78125 27.484375 10.78125 32.3125 \nQ 14.796875 37.15625 21.921875 38.8125 \nz\nM 18.3125 54.390625 \nQ 18.3125 48.734375 21.84375 45.5625 \nQ 25.390625 42.390625 31.78125 42.390625 \nQ 38.140625 42.390625 41.71875 45.5625 \nQ 45.3125 48.734375 45.3125 54.390625 \nQ 45.3125 60.0625 41.71875 63.234375 \nQ 38.140625 66.40625 31.78125 66.40625 \nQ 25.390625 66.40625 21.84375 63.234375 \nQ 18.3125 60.0625 18.3125 54.390625 \nz\n\" id=\"DejaVuSans-56\"/>\n       </defs>\n       <use xlink:href=\"#DejaVuSans-49\"/>\n       <use x=\"63.623047\" xlink:href=\"#DejaVuSans-46\"/>\n       <use x=\"95.410156\" xlink:href=\"#DejaVuSans-56\"/>\n       <use x=\"159.033203\" xlink:href=\"#DejaVuSans-48\"/>\n       <use x=\"222.65625\" xlink:href=\"#DejaVuSans-48\"/>\n      </g>\n     </g>\n    </g>\n    <g id=\"ytick_6\">\n     <g id=\"line2d_11\">\n      <g>\n       <use style=\"stroke:#000000;stroke-width:0.8;\" x=\"42.828125\" xlink:href=\"#m5f2fcfe2e4\" y=\"73.196848\"/>\n      </g>\n     </g>\n     <g id=\"text_11\">\n      <!-- 1.825 -->\n      <g transform=\"translate(7.2 76.996067)scale(0.1 -0.1)\">\n       <use xlink:href=\"#DejaVuSans-49\"/>\n       <use x=\"63.623047\" xlink:href=\"#DejaVuSans-46\"/>\n       <use x=\"95.410156\" xlink:href=\"#DejaVuSans-56\"/>\n       <use x=\"159.033203\" xlink:href=\"#DejaVuSans-50\"/>\n       <use x=\"222.65625\" xlink:href=\"#DejaVuSans-53\"/>\n      </g>\n     </g>\n    </g>\n    <g id=\"ytick_7\">\n     <g id=\"line2d_12\">\n      <g>\n       <use style=\"stroke:#000000;stroke-width:0.8;\" x=\"42.828125\" xlink:href=\"#m5f2fcfe2e4\" y=\"38.391201\"/>\n      </g>\n     </g>\n     <g id=\"text_12\">\n      <!-- 1.850 -->\n      <g transform=\"translate(7.2 42.19042)scale(0.1 -0.1)\">\n       <use xlink:href=\"#DejaVuSans-49\"/>\n       <use x=\"63.623047\" xlink:href=\"#DejaVuSans-46\"/>\n       <use x=\"95.410156\" xlink:href=\"#DejaVuSans-56\"/>\n       <use x=\"159.033203\" xlink:href=\"#DejaVuSans-53\"/>\n       <use x=\"222.65625\" xlink:href=\"#DejaVuSans-48\"/>\n      </g>\n     </g>\n    </g>\n   </g>\n   <g id=\"line2d_13\">\n    <path clip-path=\"url(#p5f1a7c9905)\" d=\"M 321.828125 143.1 \n\" style=\"fill:none;stroke:#1f77b4;stroke-linecap:square;stroke-width:1.5;\"/>\n   </g>\n   <g id=\"patch_3\">\n    <path d=\"M 42.828125 279 \nL 42.828125 7.2 \n\" style=\"fill:none;stroke:#000000;stroke-linecap:square;stroke-linejoin:miter;stroke-width:0.8;\"/>\n   </g>\n   <g id=\"patch_4\">\n    <path d=\"M 600.828125 279 \nL 600.828125 7.2 \n\" style=\"fill:none;stroke:#000000;stroke-linecap:square;stroke-linejoin:miter;stroke-width:0.8;\"/>\n   </g>\n   <g id=\"patch_5\">\n    <path d=\"M 42.828125 279 \nL 600.828125 279 \n\" style=\"fill:none;stroke:#000000;stroke-linecap:square;stroke-linejoin:miter;stroke-width:0.8;\"/>\n   </g>\n   <g id=\"patch_6\">\n    <path d=\"M 42.828125 7.2 \nL 600.828125 7.2 \n\" style=\"fill:none;stroke:#000000;stroke-linecap:square;stroke-linejoin:miter;stroke-width:0.8;\"/>\n   </g>\n  </g>\n </g>\n <defs>\n  <clipPath id=\"p5f1a7c9905\">\n   <rect height=\"271.8\" width=\"558\" x=\"42.828125\" y=\"7.2\"/>\n  </clipPath>\n </defs>\n</svg>\n",
      "image/png": "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\n"
     },
     "metadata": {
      "needs_background": "light"
     }
    }
   ],
   "source": [
    "plt.figure(figsize=(10, 5))\n",
    "plt.plot(epoch_accumulator)\n",
    "plt.show()"
   ]
  },
  {
   "source": [
    "## Create functions to predict\n",
    "In order to get the best recommendation use `predict_item`"
   ],
   "cell_type": "markdown",
   "metadata": {}
  },
  {
   "cell_type": "code",
   "execution_count": 12,
   "metadata": {},
   "outputs": [],
   "source": [
    "def predict(user_id):\n",
    "    \"\"\"\n",
    "    Predict a list of tuples ordered by value which are the model predictions\n",
    "    \"\"\"\n",
    "    \n",
    "    n_items = len(activites)\n",
    "    \n",
    "    predictions = model.predict(\n",
    "        torch.LongTensor([user_id for _ in range(n_items)]), \n",
    "        torch.LongTensor(list(range(n_items)))\n",
    "    )\n",
    "\n",
    "    tuple_predictions = [(i, predictions[i].item()) for i in range(len(predictions))]\n",
    "    return sorted(tuple_predictions, key=lambda tup: tup[1], reverse=True)"
   ]
  },
  {
   "cell_type": "code",
   "execution_count": 13,
   "metadata": {},
   "outputs": [
    {
     "output_type": "execute_result",
     "data": {
      "text/plain": [
       "[(3, -0.1732167899608612),\n",
       " (2, -0.23113039135932922),\n",
       " (0, -0.2784223258495331),\n",
       " (4, -0.34186509251594543),\n",
       " (1, -0.360027551651001)]"
      ]
     },
     "metadata": {},
     "execution_count": 13
    }
   ],
   "source": [
    "predict(1)"
   ]
  },
  {
   "cell_type": "code",
   "execution_count": 14,
   "metadata": {},
   "outputs": [
    {
     "output_type": "execute_result",
     "data": {
      "text/plain": [
       "{'id': 3,\n",
       " 'type': 'sport',\n",
       " 'description': 'climbing',\n",
       " 'url': 'https://totem.ch/?ec',\n",
       " 'lattitude': 46.51674945486285,\n",
       " 'longitude': 6.548327486660693,\n",
       " 'score': 4}"
      ]
     },
     "metadata": {},
     "execution_count": 14
    }
   ],
   "source": [
    "def get_item(item_id):\n",
    "    return activites.loc[item_id].to_dict()\n",
    "\n",
    "def predict_item(user_id):\n",
    "    \"\"\"\n",
    "    Returns the data of the item which has the best prediction score for a specific user\n",
    "    \"\"\"\n",
    "    \n",
    "    predictions = predict(user_id)\n",
    "    first_item_idx = predictions[0][0]\n",
    "\n",
    "    return get_item(first_item_idx)\n",
    "\n",
    "predict_item(1)"
   ]
  }
 ]
}