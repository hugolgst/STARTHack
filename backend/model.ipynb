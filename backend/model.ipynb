{
 "cells": [
  {
   "cell_type": "markdown",
   "metadata": {},
   "source": [
    "# Model training\n",
    "Using a neural network for the recommender system"
   ]
  },
  {
   "cell_type": "code",
   "execution_count": 15,
   "metadata": {},
   "outputs": [],
   "source": [
    "import pandas as pd\n",
    "import numpy as np\n",
    "import torch\n",
    "from torch.autograd import Variable\n",
    "import torch.nn.functional as Functional\n",
    "from tqdm import tqdm\n",
    "import matplotlib.pyplot as plt"
   ]
  },
  {
   "cell_type": "code",
   "execution_count": 16,
   "metadata": {},
   "outputs": [
    {
     "output_type": "execute_result",
     "data": {
      "text/plain": [
       "   id        type    description  \\\n",
       "0   0       sport       climbing   \n",
       "1   1       sport      badminton   \n",
       "2   2       sport  swimming pool   \n",
       "3   3       sport       climbing   \n",
       "4   4  meditation           yoga   \n",
       "\n",
       "                                                 url  score  \\\n",
       "0  https://www.facebook.com/groups/escaladeromand...      1   \n",
       "1                   http://www.badmintonlausanne.ch/      4   \n",
       "2  https://www.lausanne-tourisme.ch/fr/decouvrir/...      3   \n",
       "3                               https://totem.ch/?ec      4   \n",
       "4                https://totem.ch/yoga#studio?smooth      4   \n",
       "\n",
       "                                     fool_descrition  \n",
       "0                            Safe climbing in nature  \n",
       "1  Badminton hall with the possibility of doing h...  \n",
       "2   \"Swimming pool with the possibility to relax ...  \n",
       "3                                Indoor climbing gym  \n",
       "4                           relaxation in a yog room  "
      ],
      "text/html": "<div>\n<style scoped>\n    .dataframe tbody tr th:only-of-type {\n        vertical-align: middle;\n    }\n\n    .dataframe tbody tr th {\n        vertical-align: top;\n    }\n\n    .dataframe thead th {\n        text-align: right;\n    }\n</style>\n<table border=\"1\" class=\"dataframe\">\n  <thead>\n    <tr style=\"text-align: right;\">\n      <th></th>\n      <th>id</th>\n      <th>type</th>\n      <th>description</th>\n      <th>url</th>\n      <th>score</th>\n      <th>fool_descrition</th>\n    </tr>\n  </thead>\n  <tbody>\n    <tr>\n      <th>0</th>\n      <td>0</td>\n      <td>sport</td>\n      <td>climbing</td>\n      <td>https://www.facebook.com/groups/escaladeromand...</td>\n      <td>1</td>\n      <td>Safe climbing in nature</td>\n    </tr>\n    <tr>\n      <th>1</th>\n      <td>1</td>\n      <td>sport</td>\n      <td>badminton</td>\n      <td>http://www.badmintonlausanne.ch/</td>\n      <td>4</td>\n      <td>Badminton hall with the possibility of doing h...</td>\n    </tr>\n    <tr>\n      <th>2</th>\n      <td>2</td>\n      <td>sport</td>\n      <td>swimming pool</td>\n      <td>https://www.lausanne-tourisme.ch/fr/decouvrir/...</td>\n      <td>3</td>\n      <td>\"Swimming pool with the possibility to relax ...</td>\n    </tr>\n    <tr>\n      <th>3</th>\n      <td>3</td>\n      <td>sport</td>\n      <td>climbing</td>\n      <td>https://totem.ch/?ec</td>\n      <td>4</td>\n      <td>Indoor climbing gym</td>\n    </tr>\n    <tr>\n      <th>4</th>\n      <td>4</td>\n      <td>meditation</td>\n      <td>yoga</td>\n      <td>https://totem.ch/yoga#studio?smooth</td>\n      <td>4</td>\n      <td>relaxation in a yog room</td>\n    </tr>\n  </tbody>\n</table>\n</div>"
     },
     "metadata": {},
     "execution_count": 16
    }
   ],
   "source": [
    "activites = pd.read_csv('activities.csv')\n",
    "activites.head()"
   ]
  },
  {
   "cell_type": "code",
   "execution_count": 17,
   "metadata": {},
   "outputs": [
    {
     "output_type": "execute_result",
     "data": {
      "text/plain": [
       "   user_id  item_id  rating   timestamp\n",
       "0        1        0       1  1616193271\n",
       "2        0        4       0  1616193911\n",
       "3        1        2       0  1616193911\n",
       "1        1        1       1  1616194035\n",
       "4        1        3       0  1616194210"
      ],
      "text/html": "<div>\n<style scoped>\n    .dataframe tbody tr th:only-of-type {\n        vertical-align: middle;\n    }\n\n    .dataframe tbody tr th {\n        vertical-align: top;\n    }\n\n    .dataframe thead th {\n        text-align: right;\n    }\n</style>\n<table border=\"1\" class=\"dataframe\">\n  <thead>\n    <tr style=\"text-align: right;\">\n      <th></th>\n      <th>user_id</th>\n      <th>item_id</th>\n      <th>rating</th>\n      <th>timestamp</th>\n    </tr>\n  </thead>\n  <tbody>\n    <tr>\n      <th>0</th>\n      <td>1</td>\n      <td>0</td>\n      <td>1</td>\n      <td>1616193271</td>\n    </tr>\n    <tr>\n      <th>2</th>\n      <td>0</td>\n      <td>4</td>\n      <td>0</td>\n      <td>1616193911</td>\n    </tr>\n    <tr>\n      <th>3</th>\n      <td>1</td>\n      <td>2</td>\n      <td>0</td>\n      <td>1616193911</td>\n    </tr>\n    <tr>\n      <th>1</th>\n      <td>1</td>\n      <td>1</td>\n      <td>1</td>\n      <td>1616194035</td>\n    </tr>\n    <tr>\n      <th>4</th>\n      <td>1</td>\n      <td>3</td>\n      <td>0</td>\n      <td>1616194210</td>\n    </tr>\n  </tbody>\n</table>\n</div>"
     },
     "metadata": {},
     "execution_count": 17
    }
   ],
   "source": [
    "# Read the CSV of interactions and sort it by timestamp\n",
    "data = pd.read_csv('interactions.csv')\n",
    "data_sorted = data.sort_values('timestamp')\n",
    "data_sorted.head()"
   ]
  },
  {
   "cell_type": "code",
   "execution_count": 18,
   "metadata": {},
   "outputs": [
    {
     "output_type": "execute_result",
     "data": {
      "text/plain": [
       "((9, 4), (5, 4))"
      ]
     },
     "metadata": {},
     "execution_count": 18
    }
   ],
   "source": [
    "# Cut the data off at 75% in order to save some data for the test process\n",
    "CUTOFF = 0.70\n",
    "cutoff_idx = int(len(data_sorted) * CUTOFF)\n",
    "\n",
    "# Generate the train and test data\n",
    "data_train = data_sorted.iloc[0:cutoff_idx]\n",
    "data_test = data_sorted.iloc[cutoff_idx:]\n",
    "\n",
    "data_train.shape, data_test.shape"
   ]
  },
  {
   "cell_type": "code",
   "execution_count": 19,
   "metadata": {},
   "outputs": [
    {
     "output_type": "execute_result",
     "data": {
      "text/plain": [
       "(3, 4)"
      ]
     },
     "metadata": {},
     "execution_count": 19
    }
   ],
   "source": [
    "def get_intersection_test_and_train(field):\n",
    "    \"\"\"\n",
    "    Get interactions between the test and train datasets\n",
    "    for the given field\n",
    "    \"\"\"\n",
    "\n",
    "    return (\n",
    "        set(data_test[field].unique())\n",
    "        & set(data_train[field].unique())\n",
    "    )\n",
    "\n",
    "\n",
    "# Get the interactions between test and train for user_id and item_id\n",
    "interactions_user, intractions_item = get_intersection_test_and_train('user_id'), get_intersection_test_and_train('item_id')\n",
    "\n",
    "# Clean the test dataset to make sure it does not contain \"solo\" data\n",
    "data_test_clean = (\n",
    "    data_test.loc[\n",
    "        data_test['user_id'].isin(interactions_user)\n",
    "        & data_test['item_id'].isin(intractions_item)\n",
    "    ]\n",
    ")\n",
    "\n",
    "data_test_clean.shape"
   ]
  },
  {
   "cell_type": "code",
   "execution_count": 20,
   "metadata": {},
   "outputs": [],
   "source": [
    "def is_test_data_all_in_train(field):\n",
    "    return data_test_clean[field].isin(data_train[field]).all()\n",
    "\n",
    "assert is_test_data_all_in_train('user_id')\n",
    "assert is_test_data_all_in_train('item_id')"
   ]
  },
  {
   "cell_type": "code",
   "execution_count": 21,
   "metadata": {},
   "outputs": [
    {
     "output_type": "execute_result",
     "data": {
      "text/plain": [
       "((9, 4), (3, 4))"
      ]
     },
     "metadata": {},
     "execution_count": 21
    }
   ],
   "source": [
    "def create_mapping_from_data_train(field):\n",
    "    return {elem: i for i, elem in enumerate(data_train[field].unique())}\n",
    "\n",
    "user_to_id, item_to_id = create_mapping_from_data_train('user_id'), create_mapping_from_data_train('item_id')\n",
    "\n",
    "def create_dataset_from_mapping(init_dataset, *fields):\n",
    "    \"\"\"\n",
    "    Returns a clone of the dataset by applying the mappings\n",
    "    created with `create_mapping_from_data_train` on each field\n",
    "    listed in the parameters.  \n",
    "    \"\"\"\n",
    "\n",
    "    mappings = {field: create_mapping_from_data_train(field) for field in fields}\n",
    "\n",
    "    dataset = init_dataset.copy()\n",
    "\n",
    "    for field in fields:\n",
    "        dataset[field] = dataset[field].apply(lambda x: mappings[field][x])\n",
    "\n",
    "    return dataset\n",
    "\n",
    "dataset_train, dataset_test = create_dataset_from_mapping(data_train, 'user_id', 'item_id'), create_dataset_from_mapping(data_test_clean, 'user_id', 'item_id')\n",
    "dataset_train.shape, dataset_test.shape"
   ]
  },
  {
   "cell_type": "code",
   "execution_count": 22,
   "metadata": {},
   "outputs": [],
   "source": [
    "def get_x_y(dataset, x_fields, y_field):\n",
    "    return (\n",
    "        dataset[x_fields].values,\n",
    "        dataset[y_field].values\n",
    "    )\n",
    "\n",
    "X_train, y_train = get_x_y(\n",
    "    dataset_train,\n",
    "    ['user_id', 'item_id'],\n",
    "    'rating'\n",
    ")\n",
    "X_test, y_test = get_x_y(\n",
    "    dataset_test,\n",
    "    ['user_id', 'item_id'],\n",
    "    'rating'\n",
    ")"
   ]
  },
  {
   "cell_type": "markdown",
   "metadata": {},
   "source": [
    "## Implement neural network\n",
    "In the following cell I will implemement a neural network instead of a Matrix Factorization to predict the scores for each recommendation"
   ]
  },
  {
   "cell_type": "code",
   "execution_count": 23,
   "metadata": {},
   "outputs": [],
   "source": [
    "class NNRecommender(torch.nn.Module):\n",
    "    def __init__(self, n_users, n_items, n_factors, hidden_1, dim_out):\n",
    "        super().__init__()\n",
    "\n",
    "        self.user_factors = torch.nn.Embedding(n_users, n_factors, sparse=True)\n",
    "        self.item_factors = torch.nn.Embedding(n_items, n_factors, sparse=True)\n",
    "\n",
    "        self.linear_1 = torch.nn.Linear(n_factors*2, hidden_1)\n",
    "        self.linear_2 = torch.nn.Linear(hidden_1, dim_out)\n",
    "\n",
    "    def forward(self, user_ids, item_ids):\n",
    "        users_embedding = self.user_factors(user_ids)\n",
    "        items_embedding = self.item_factors(item_ids)\n",
    "\n",
    "        x = torch.cat([\n",
    "            users_embedding,\n",
    "            items_embedding,\n",
    "        ], 1)\n",
    "        h1_relu = Functional.relu(self.linear_1(x))\n",
    "        output = self.linear_2(h1_relu)\n",
    "\n",
    "        return torch.squeeze(output)\n",
    "    \n",
    "    def predict(self, user, item):\n",
    "        return self.forward(user, item)"
   ]
  },
  {
   "cell_type": "code",
   "execution_count": 24,
   "metadata": {},
   "outputs": [
    {
     "output_type": "stream",
     "name": "stderr",
     "text": [
      "                                     1.1283261999487877\n"
     ]
    }
   ],
   "source": [
    "model = NNRecommender(\n",
    "    len(data_train['user_id'].unique()),\n",
    "    len(data_train['item_id'].unique()),\n",
    "    20,\n",
    "    20,\n",
    "    1\n",
    ")\n",
    "\n",
    "# Choose the mean squared error as the error function\n",
    "loss_function = torch.nn.MSELoss()\n",
    "# and the Stochastic Gradient Descent as the optimizer\n",
    "optimizer = torch.optim.SGD(model.parameters(), lr=1e-6)\n",
    "\n",
    "epoch_accumulator = []\n",
    "for epoch in range(10):\n",
    "    # Decide that the size of the batches will be 32\n",
    "    batch_size = 2\n",
    "    split_size = len(X_train) // batch_size\n",
    "\n",
    "    # Split the data in batches\n",
    "    X_batches = np.array_split(X_train, split_size)\n",
    "    y_batches = np.array_split(y_train, split_size)\n",
    "\n",
    "    it = zip(X_batches, y_batches)\n",
    "\n",
    "    loss_accumulator = []\n",
    "\n",
    "    for X, y in tqdm(it, total=len(X_batches), leave=False):\n",
    "        users = X[:, 0]\n",
    "        items = X[:, 1]\n",
    "        ratings = y\n",
    "\n",
    "        ratings = Variable(torch.FloatTensor(ratings))\n",
    "        users = Variable(torch.LongTensor(users))\n",
    "        items = Variable(torch.LongTensor(items))\n",
    "\n",
    "        # Predict the score\n",
    "        predictions = model(users, items)\n",
    "        loss = loss_function(predictions, ratings)\n",
    "\n",
    "        # Executes the back propagation\n",
    "        loss.backward()\n",
    "        # Add the loss value to the accumulator\n",
    "        loss_accumulator.append(loss.detach().numpy())\n",
    "\n",
    "        # finally update the weights\n",
    "        optimizer.step()\n",
    "\n",
    "epoch_accumulator.append(sum(loss_accumulator) / len(X_batches))\n",
    "print(epoch_accumulator[-1])"
   ]
  },
  {
   "cell_type": "code",
   "execution_count": 25,
   "metadata": {},
   "outputs": [
    {
     "output_type": "display_data",
     "data": {
      "text/plain": "<Figure size 720x360 with 1 Axes>",
      "image/svg+xml": "<?xml version=\"1.0\" encoding=\"utf-8\" standalone=\"no\"?>\n<!DOCTYPE svg PUBLIC \"-//W3C//DTD SVG 1.1//EN\"\n  \"http://www.w3.org/Graphics/SVG/1.1/DTD/svg11.dtd\">\n<!-- Created with matplotlib (https://matplotlib.org/) -->\n<svg height=\"302.878125pt\" version=\"1.1\" viewBox=\"0 0 601.665625 302.878125\" width=\"601.665625pt\" xmlns=\"http://www.w3.org/2000/svg\" xmlns:xlink=\"http://www.w3.org/1999/xlink\">\n <metadata>\n  <rdf:RDF xmlns:cc=\"http://creativecommons.org/ns#\" xmlns:dc=\"http://purl.org/dc/elements/1.1/\" xmlns:rdf=\"http://www.w3.org/1999/02/22-rdf-syntax-ns#\">\n   <cc:Work>\n    <dc:type rdf:resource=\"http://purl.org/dc/dcmitype/StillImage\"/>\n    <dc:date>2021-03-20T18:03:50.886270</dc:date>\n    <dc:format>image/svg+xml</dc:format>\n    <dc:creator>\n     <cc:Agent>\n      <dc:title>Matplotlib v3.3.1, https://matplotlib.org/</dc:title>\n     </cc:Agent>\n    </dc:creator>\n   </cc:Work>\n  </rdf:RDF>\n </metadata>\n <defs>\n  <style type=\"text/css\">*{stroke-linecap:butt;stroke-linejoin:round;}</style>\n </defs>\n <g id=\"figure_1\">\n  <g id=\"patch_1\">\n   <path d=\"M 0 302.878125 \nL 601.665625 302.878125 \nL 601.665625 0 \nL 0 0 \nz\n\" style=\"fill:none;\"/>\n  </g>\n  <g id=\"axes_1\">\n   <g id=\"patch_2\">\n    <path d=\"M 36.465625 279 \nL 594.465625 279 \nL 594.465625 7.2 \nL 36.465625 7.2 \nz\n\" style=\"fill:#ffffff;\"/>\n   </g>\n   <g id=\"matplotlib.axis_1\">\n    <g id=\"xtick_1\">\n     <g id=\"line2d_1\">\n      <defs>\n       <path d=\"M 0 0 \nL 0 3.5 \n\" id=\"mec49913a2b\" style=\"stroke:#000000;stroke-width:0.8;\"/>\n      </defs>\n      <g>\n       <use style=\"stroke:#000000;stroke-width:0.8;\" x=\"112.556534\" xlink:href=\"#mec49913a2b\" y=\"279\"/>\n      </g>\n     </g>\n     <g id=\"text_1\">\n      <!-- −0.04 -->\n      <g transform=\"translate(97.233878 293.598437)scale(0.1 -0.1)\">\n       <defs>\n        <path d=\"M 10.59375 35.5 \nL 73.1875 35.5 \nL 73.1875 27.203125 \nL 10.59375 27.203125 \nz\n\" id=\"DejaVuSans-8722\"/>\n        <path d=\"M 31.78125 66.40625 \nQ 24.171875 66.40625 20.328125 58.90625 \nQ 16.5 51.421875 16.5 36.375 \nQ 16.5 21.390625 20.328125 13.890625 \nQ 24.171875 6.390625 31.78125 6.390625 \nQ 39.453125 6.390625 43.28125 13.890625 \nQ 47.125 21.390625 47.125 36.375 \nQ 47.125 51.421875 43.28125 58.90625 \nQ 39.453125 66.40625 31.78125 66.40625 \nz\nM 31.78125 74.21875 \nQ 44.046875 74.21875 50.515625 64.515625 \nQ 56.984375 54.828125 56.984375 36.375 \nQ 56.984375 17.96875 50.515625 8.265625 \nQ 44.046875 -1.421875 31.78125 -1.421875 \nQ 19.53125 -1.421875 13.0625 8.265625 \nQ 6.59375 17.96875 6.59375 36.375 \nQ 6.59375 54.828125 13.0625 64.515625 \nQ 19.53125 74.21875 31.78125 74.21875 \nz\n\" id=\"DejaVuSans-48\"/>\n        <path d=\"M 10.6875 12.40625 \nL 21 12.40625 \nL 21 0 \nL 10.6875 0 \nz\n\" id=\"DejaVuSans-46\"/>\n        <path d=\"M 37.796875 64.3125 \nL 12.890625 25.390625 \nL 37.796875 25.390625 \nz\nM 35.203125 72.90625 \nL 47.609375 72.90625 \nL 47.609375 25.390625 \nL 58.015625 25.390625 \nL 58.015625 17.1875 \nL 47.609375 17.1875 \nL 47.609375 0 \nL 37.796875 0 \nL 37.796875 17.1875 \nL 4.890625 17.1875 \nL 4.890625 26.703125 \nz\n\" id=\"DejaVuSans-52\"/>\n       </defs>\n       <use xlink:href=\"#DejaVuSans-8722\"/>\n       <use x=\"83.789062\" xlink:href=\"#DejaVuSans-48\"/>\n       <use x=\"147.412109\" xlink:href=\"#DejaVuSans-46\"/>\n       <use x=\"179.199219\" xlink:href=\"#DejaVuSans-48\"/>\n       <use x=\"242.822266\" xlink:href=\"#DejaVuSans-52\"/>\n      </g>\n     </g>\n    </g>\n    <g id=\"xtick_2\">\n     <g id=\"line2d_2\">\n      <g>\n       <use style=\"stroke:#000000;stroke-width:0.8;\" x=\"214.01108\" xlink:href=\"#mec49913a2b\" y=\"279\"/>\n      </g>\n     </g>\n     <g id=\"text_2\">\n      <!-- −0.02 -->\n      <g transform=\"translate(198.688423 293.598437)scale(0.1 -0.1)\">\n       <defs>\n        <path d=\"M 19.1875 8.296875 \nL 53.609375 8.296875 \nL 53.609375 0 \nL 7.328125 0 \nL 7.328125 8.296875 \nQ 12.9375 14.109375 22.625 23.890625 \nQ 32.328125 33.6875 34.8125 36.53125 \nQ 39.546875 41.84375 41.421875 45.53125 \nQ 43.3125 49.21875 43.3125 52.78125 \nQ 43.3125 58.59375 39.234375 62.25 \nQ 35.15625 65.921875 28.609375 65.921875 \nQ 23.96875 65.921875 18.8125 64.3125 \nQ 13.671875 62.703125 7.8125 59.421875 \nL 7.8125 69.390625 \nQ 13.765625 71.78125 18.9375 73 \nQ 24.125 74.21875 28.421875 74.21875 \nQ 39.75 74.21875 46.484375 68.546875 \nQ 53.21875 62.890625 53.21875 53.421875 \nQ 53.21875 48.921875 51.53125 44.890625 \nQ 49.859375 40.875 45.40625 35.40625 \nQ 44.1875 33.984375 37.640625 27.21875 \nQ 31.109375 20.453125 19.1875 8.296875 \nz\n\" id=\"DejaVuSans-50\"/>\n       </defs>\n       <use xlink:href=\"#DejaVuSans-8722\"/>\n       <use x=\"83.789062\" xlink:href=\"#DejaVuSans-48\"/>\n       <use x=\"147.412109\" xlink:href=\"#DejaVuSans-46\"/>\n       <use x=\"179.199219\" xlink:href=\"#DejaVuSans-48\"/>\n       <use x=\"242.822266\" xlink:href=\"#DejaVuSans-50\"/>\n      </g>\n     </g>\n    </g>\n    <g id=\"xtick_3\">\n     <g id=\"line2d_3\">\n      <g>\n       <use style=\"stroke:#000000;stroke-width:0.8;\" x=\"315.465625\" xlink:href=\"#mec49913a2b\" y=\"279\"/>\n      </g>\n     </g>\n     <g id=\"text_3\">\n      <!-- 0.00 -->\n      <g transform=\"translate(304.332812 293.598437)scale(0.1 -0.1)\">\n       <use xlink:href=\"#DejaVuSans-48\"/>\n       <use x=\"63.623047\" xlink:href=\"#DejaVuSans-46\"/>\n       <use x=\"95.410156\" xlink:href=\"#DejaVuSans-48\"/>\n       <use x=\"159.033203\" xlink:href=\"#DejaVuSans-48\"/>\n      </g>\n     </g>\n    </g>\n    <g id=\"xtick_4\">\n     <g id=\"line2d_4\">\n      <g>\n       <use style=\"stroke:#000000;stroke-width:0.8;\" x=\"416.92017\" xlink:href=\"#mec49913a2b\" y=\"279\"/>\n      </g>\n     </g>\n     <g id=\"text_4\">\n      <!-- 0.02 -->\n      <g transform=\"translate(405.787358 293.598437)scale(0.1 -0.1)\">\n       <use xlink:href=\"#DejaVuSans-48\"/>\n       <use x=\"63.623047\" xlink:href=\"#DejaVuSans-46\"/>\n       <use x=\"95.410156\" xlink:href=\"#DejaVuSans-48\"/>\n       <use x=\"159.033203\" xlink:href=\"#DejaVuSans-50\"/>\n      </g>\n     </g>\n    </g>\n    <g id=\"xtick_5\">\n     <g id=\"line2d_5\">\n      <g>\n       <use style=\"stroke:#000000;stroke-width:0.8;\" x=\"518.374716\" xlink:href=\"#mec49913a2b\" y=\"279\"/>\n      </g>\n     </g>\n     <g id=\"text_5\">\n      <!-- 0.04 -->\n      <g transform=\"translate(507.241903 293.598437)scale(0.1 -0.1)\">\n       <use xlink:href=\"#DejaVuSans-48\"/>\n       <use x=\"63.623047\" xlink:href=\"#DejaVuSans-46\"/>\n       <use x=\"95.410156\" xlink:href=\"#DejaVuSans-48\"/>\n       <use x=\"159.033203\" xlink:href=\"#DejaVuSans-52\"/>\n      </g>\n     </g>\n    </g>\n   </g>\n   <g id=\"matplotlib.axis_2\">\n    <g id=\"ytick_1\">\n     <g id=\"line2d_6\">\n      <defs>\n       <path d=\"M 0 0 \nL -3.5 0 \n\" id=\"m36b4d5910f\" style=\"stroke:#000000;stroke-width:0.8;\"/>\n      </defs>\n      <g>\n       <use style=\"stroke:#000000;stroke-width:0.8;\" x=\"36.465625\" xlink:href=\"#m36b4d5910f\" y=\"248.929012\"/>\n      </g>\n     </g>\n     <g id=\"text_6\">\n      <!-- 1.08 -->\n      <g transform=\"translate(7.2 252.728231)scale(0.1 -0.1)\">\n       <defs>\n        <path d=\"M 12.40625 8.296875 \nL 28.515625 8.296875 \nL 28.515625 63.921875 \nL 10.984375 60.40625 \nL 10.984375 69.390625 \nL 28.421875 72.90625 \nL 38.28125 72.90625 \nL 38.28125 8.296875 \nL 54.390625 8.296875 \nL 54.390625 0 \nL 12.40625 0 \nz\n\" id=\"DejaVuSans-49\"/>\n        <path d=\"M 31.78125 34.625 \nQ 24.75 34.625 20.71875 30.859375 \nQ 16.703125 27.09375 16.703125 20.515625 \nQ 16.703125 13.921875 20.71875 10.15625 \nQ 24.75 6.390625 31.78125 6.390625 \nQ 38.8125 6.390625 42.859375 10.171875 \nQ 46.921875 13.96875 46.921875 20.515625 \nQ 46.921875 27.09375 42.890625 30.859375 \nQ 38.875 34.625 31.78125 34.625 \nz\nM 21.921875 38.8125 \nQ 15.578125 40.375 12.03125 44.71875 \nQ 8.5 49.078125 8.5 55.328125 \nQ 8.5 64.0625 14.71875 69.140625 \nQ 20.953125 74.21875 31.78125 74.21875 \nQ 42.671875 74.21875 48.875 69.140625 \nQ 55.078125 64.0625 55.078125 55.328125 \nQ 55.078125 49.078125 51.53125 44.71875 \nQ 48 40.375 41.703125 38.8125 \nQ 48.828125 37.15625 52.796875 32.3125 \nQ 56.78125 27.484375 56.78125 20.515625 \nQ 56.78125 9.90625 50.3125 4.234375 \nQ 43.84375 -1.421875 31.78125 -1.421875 \nQ 19.734375 -1.421875 13.25 4.234375 \nQ 6.78125 9.90625 6.78125 20.515625 \nQ 6.78125 27.484375 10.78125 32.3125 \nQ 14.796875 37.15625 21.921875 38.8125 \nz\nM 18.3125 54.390625 \nQ 18.3125 48.734375 21.84375 45.5625 \nQ 25.390625 42.390625 31.78125 42.390625 \nQ 38.140625 42.390625 41.71875 45.5625 \nQ 45.3125 48.734375 45.3125 54.390625 \nQ 45.3125 60.0625 41.71875 63.234375 \nQ 38.140625 66.40625 31.78125 66.40625 \nQ 25.390625 66.40625 21.84375 63.234375 \nQ 18.3125 60.0625 18.3125 54.390625 \nz\n\" id=\"DejaVuSans-56\"/>\n       </defs>\n       <use xlink:href=\"#DejaVuSans-49\"/>\n       <use x=\"63.623047\" xlink:href=\"#DejaVuSans-46\"/>\n       <use x=\"95.410156\" xlink:href=\"#DejaVuSans-48\"/>\n       <use x=\"159.033203\" xlink:href=\"#DejaVuSans-56\"/>\n      </g>\n     </g>\n    </g>\n    <g id=\"ytick_2\">\n     <g id=\"line2d_7\">\n      <g>\n       <use style=\"stroke:#000000;stroke-width:0.8;\" x=\"36.465625\" xlink:href=\"#m36b4d5910f\" y=\"205.131233\"/>\n      </g>\n     </g>\n     <g id=\"text_7\">\n      <!-- 1.10 -->\n      <g transform=\"translate(7.2 208.930451)scale(0.1 -0.1)\">\n       <use xlink:href=\"#DejaVuSans-49\"/>\n       <use x=\"63.623047\" xlink:href=\"#DejaVuSans-46\"/>\n       <use x=\"95.410156\" xlink:href=\"#DejaVuSans-49\"/>\n       <use x=\"159.033203\" xlink:href=\"#DejaVuSans-48\"/>\n      </g>\n     </g>\n    </g>\n    <g id=\"ytick_3\">\n     <g id=\"line2d_8\">\n      <g>\n       <use style=\"stroke:#000000;stroke-width:0.8;\" x=\"36.465625\" xlink:href=\"#m36b4d5910f\" y=\"161.333453\"/>\n      </g>\n     </g>\n     <g id=\"text_8\">\n      <!-- 1.12 -->\n      <g transform=\"translate(7.2 165.132672)scale(0.1 -0.1)\">\n       <use xlink:href=\"#DejaVuSans-49\"/>\n       <use x=\"63.623047\" xlink:href=\"#DejaVuSans-46\"/>\n       <use x=\"95.410156\" xlink:href=\"#DejaVuSans-49\"/>\n       <use x=\"159.033203\" xlink:href=\"#DejaVuSans-50\"/>\n      </g>\n     </g>\n    </g>\n    <g id=\"ytick_4\">\n     <g id=\"line2d_9\">\n      <g>\n       <use style=\"stroke:#000000;stroke-width:0.8;\" x=\"36.465625\" xlink:href=\"#m36b4d5910f\" y=\"117.535674\"/>\n      </g>\n     </g>\n     <g id=\"text_9\">\n      <!-- 1.14 -->\n      <g transform=\"translate(7.2 121.334893)scale(0.1 -0.1)\">\n       <use xlink:href=\"#DejaVuSans-49\"/>\n       <use x=\"63.623047\" xlink:href=\"#DejaVuSans-46\"/>\n       <use x=\"95.410156\" xlink:href=\"#DejaVuSans-49\"/>\n       <use x=\"159.033203\" xlink:href=\"#DejaVuSans-52\"/>\n      </g>\n     </g>\n    </g>\n    <g id=\"ytick_5\">\n     <g id=\"line2d_10\">\n      <g>\n       <use style=\"stroke:#000000;stroke-width:0.8;\" x=\"36.465625\" xlink:href=\"#m36b4d5910f\" y=\"73.737895\"/>\n      </g>\n     </g>\n     <g id=\"text_10\">\n      <!-- 1.16 -->\n      <g transform=\"translate(7.2 77.537114)scale(0.1 -0.1)\">\n       <defs>\n        <path d=\"M 33.015625 40.375 \nQ 26.375 40.375 22.484375 35.828125 \nQ 18.609375 31.296875 18.609375 23.390625 \nQ 18.609375 15.53125 22.484375 10.953125 \nQ 26.375 6.390625 33.015625 6.390625 \nQ 39.65625 6.390625 43.53125 10.953125 \nQ 47.40625 15.53125 47.40625 23.390625 \nQ 47.40625 31.296875 43.53125 35.828125 \nQ 39.65625 40.375 33.015625 40.375 \nz\nM 52.59375 71.296875 \nL 52.59375 62.3125 \nQ 48.875 64.0625 45.09375 64.984375 \nQ 41.3125 65.921875 37.59375 65.921875 \nQ 27.828125 65.921875 22.671875 59.328125 \nQ 17.53125 52.734375 16.796875 39.40625 \nQ 19.671875 43.65625 24.015625 45.921875 \nQ 28.375 48.1875 33.59375 48.1875 \nQ 44.578125 48.1875 50.953125 41.515625 \nQ 57.328125 34.859375 57.328125 23.390625 \nQ 57.328125 12.15625 50.6875 5.359375 \nQ 44.046875 -1.421875 33.015625 -1.421875 \nQ 20.359375 -1.421875 13.671875 8.265625 \nQ 6.984375 17.96875 6.984375 36.375 \nQ 6.984375 53.65625 15.1875 63.9375 \nQ 23.390625 74.21875 37.203125 74.21875 \nQ 40.921875 74.21875 44.703125 73.484375 \nQ 48.484375 72.75 52.59375 71.296875 \nz\n\" id=\"DejaVuSans-54\"/>\n       </defs>\n       <use xlink:href=\"#DejaVuSans-49\"/>\n       <use x=\"63.623047\" xlink:href=\"#DejaVuSans-46\"/>\n       <use x=\"95.410156\" xlink:href=\"#DejaVuSans-49\"/>\n       <use x=\"159.033203\" xlink:href=\"#DejaVuSans-54\"/>\n      </g>\n     </g>\n    </g>\n    <g id=\"ytick_6\">\n     <g id=\"line2d_11\">\n      <g>\n       <use style=\"stroke:#000000;stroke-width:0.8;\" x=\"36.465625\" xlink:href=\"#m36b4d5910f\" y=\"29.940116\"/>\n      </g>\n     </g>\n     <g id=\"text_11\">\n      <!-- 1.18 -->\n      <g transform=\"translate(7.2 33.739334)scale(0.1 -0.1)\">\n       <use xlink:href=\"#DejaVuSans-49\"/>\n       <use x=\"63.623047\" xlink:href=\"#DejaVuSans-46\"/>\n       <use x=\"95.410156\" xlink:href=\"#DejaVuSans-49\"/>\n       <use x=\"159.033203\" xlink:href=\"#DejaVuSans-56\"/>\n      </g>\n     </g>\n    </g>\n   </g>\n   <g id=\"line2d_12\">\n    <path clip-path=\"url(#pcefdfd073e)\" d=\"M 315.465625 143.1 \n\" style=\"fill:none;stroke:#1f77b4;stroke-linecap:square;stroke-width:1.5;\"/>\n   </g>\n   <g id=\"patch_3\">\n    <path d=\"M 36.465625 279 \nL 36.465625 7.2 \n\" style=\"fill:none;stroke:#000000;stroke-linecap:square;stroke-linejoin:miter;stroke-width:0.8;\"/>\n   </g>\n   <g id=\"patch_4\">\n    <path d=\"M 594.465625 279 \nL 594.465625 7.2 \n\" style=\"fill:none;stroke:#000000;stroke-linecap:square;stroke-linejoin:miter;stroke-width:0.8;\"/>\n   </g>\n   <g id=\"patch_5\">\n    <path d=\"M 36.465625 279 \nL 594.465625 279 \n\" style=\"fill:none;stroke:#000000;stroke-linecap:square;stroke-linejoin:miter;stroke-width:0.8;\"/>\n   </g>\n   <g id=\"patch_6\">\n    <path d=\"M 36.465625 7.2 \nL 594.465625 7.2 \n\" style=\"fill:none;stroke:#000000;stroke-linecap:square;stroke-linejoin:miter;stroke-width:0.8;\"/>\n   </g>\n  </g>\n </g>\n <defs>\n  <clipPath id=\"pcefdfd073e\">\n   <rect height=\"271.8\" width=\"558\" x=\"36.465625\" y=\"7.2\"/>\n  </clipPath>\n </defs>\n</svg>\n",
      "image/png": "[encoded data removed]"
     },
     "metadata": {
      "needs_background": "light"
     }
    }
   ],
   "source": [
    "plt.figure(figsize=(10, 5))\n",
    "plt.plot(epoch_accumulator)\n",
    "plt.show()"
   ]
  },
  {
   "cell_type": "markdown",
   "metadata": {},
   "source": [
    "## Create functions to predict\n",
    "In order to get the best recommendation use `predict_item`"
   ]
  },
  {
   "cell_type": "code",
   "execution_count": 26,
   "metadata": {},
   "outputs": [],
   "source": [
    "def predict(user_id):\n",
    "    \"\"\"\n",
    "    Predict a list of tuples ordered by value which are the model predictions\n",
    "    \"\"\"\n",
    "    \n",
    "    n_items = len(data_train['item_id'].unique())\n",
    "\n",
    "    predictions = model.predict(\n",
    "        torch.LongTensor([user_id for _ in range(n_items)]), \n",
    "        torch.LongTensor(list(range(n_items)))\n",
    "    )\n",
    "\n",
    "    tuple_predictions = [(i, predictions[i].item()) for i in range(len(predictions))]\n",
    "    return sorted(tuple_predictions, key=lambda tup: tup[1], reverse=True)"
   ]
  },
  {
   "cell_type": "code",
   "execution_count": 27,
   "metadata": {},
   "outputs": [
    {
     "output_type": "execute_result",
     "data": {
      "text/plain": [
       "[(3, -0.018065601587295532),\n",
       " (1, -0.03346391022205353),\n",
       " (2, -0.07871830463409424),\n",
       " (0, -0.08318347483873367),\n",
       " (4, -0.08918415009975433)]"
      ]
     },
     "metadata": {},
     "execution_count": 27
    }
   ],
   "source": [
    "predict(1)"
   ]
  }
 ],
 "metadata": {
  "kernelspec": {
   "display_name": "Python 3",
   "language": "python",
   "name": "python3"
  },
  "language_info": {
   "codemirror_mode": {
    "name": "ipython",
    "version": 3
   },
   "file_extension": ".py",
   "mimetype": "text/x-python",
   "name": "python",
   "nbconvert_exporter": "python",
   "pygments_lexer": "ipython3",
   "version": "3.8.5"
  }
 },
 "nbformat": 4,
 "nbformat_minor": 2
}